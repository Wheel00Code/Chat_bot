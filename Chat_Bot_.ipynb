{
 "cells": [
  {
   "cell_type": "markdown",
   "id": "24694bf7",
   "metadata": {},
   "source": [
    "# Import "
   ]
  },
  {
   "cell_type": "code",
   "execution_count": 1,
   "id": "da9b138c",
   "metadata": {},
   "outputs": [],
   "source": [
    "import pandas as pd\n",
    "import numpy as np\n",
    "import seaborn as sns\n",
    "from datetime import datetime\n",
    "from math import *\n",
    "from datetime import datetime as date\n",
    "import matplotlib.pyplot as plt\n",
    "from iteration_utilities import duplicates\n",
    "from iteration_utilities import unique_everseen"
   ]
  },
  {
   "cell_type": "markdown",
   "id": "622936a0",
   "metadata": {},
   "source": [
    "# Read the data:"
   ]
  },
  {
   "cell_type": "code",
   "execution_count": 2,
   "id": "6a9b57bc",
   "metadata": {},
   "outputs": [],
   "source": [
    "txtdata = pd.read_table(\"Bot_doing.txt\", on_bad_lines='skip') # --> Enter the .txt flie here"
   ]
  },
  {
   "cell_type": "code",
   "execution_count": 4,
   "id": "ef451295",
   "metadata": {},
   "outputs": [],
   "source": [
    "txtdata = pd.read_table(\"Mama_.txt\", on_bad_lines='skip') # --> Enter the .txt flie here"
   ]
  },
  {
   "cell_type": "markdown",
   "id": "53a72943",
   "metadata": {},
   "source": [
    "# Data Preparation:"
   ]
  },
  {
   "cell_type": "markdown",
   "id": "e319bef6",
   "metadata": {},
   "source": [
    "## Separate the txt file in different columns"
   ]
  },
  {
   "cell_type": "code",
   "execution_count": 3,
   "id": "5e83f06d",
   "metadata": {},
   "outputs": [],
   "source": [
    "# Column with all the information:\n",
    "column_name = txtdata.columns[0]"
   ]
  },
  {
   "cell_type": "code",
   "execution_count": 4,
   "id": "fda94155",
   "metadata": {},
   "outputs": [],
   "source": [
    "# Separate the information in different columns\n",
    "txtdata[\"Date\"] = txtdata[column_name].str.split(\" \").str.get(0).str.title()\n",
    "\n",
    "txtdata[\"Hour\"] = txtdata[column_name].str.split(\" \").str.get(1).str.title()\n",
    "\n",
    "txtdata[\"Name\"] = txtdata[column_name].str.split(\" \").str.get(2).str.title()\n",
    "\n",
    "txtdata[\"Content\"] = txtdata[column_name].str.split(\":\").str.get(3)\n"
   ]
  },
  {
   "cell_type": "markdown",
   "id": "4d1d70e1",
   "metadata": {},
   "source": [
    "# Save the  columns:"
   ]
  },
  {
   "cell_type": "code",
   "execution_count": 5,
   "id": "1cb617b1",
   "metadata": {},
   "outputs": [],
   "source": [
    "# columns to keep:\n",
    "columns_save = ['Date', 'Hour', 'Name', 'Content']\n",
    "# New df:\n",
    "df = txtdata[columns_save]"
   ]
  },
  {
   "cell_type": "markdown",
   "id": "42bd57cc",
   "metadata": {},
   "source": [
    "# Clean the data:"
   ]
  },
  {
   "cell_type": "code",
   "execution_count": 6,
   "id": "6e4bce87",
   "metadata": {},
   "outputs": [
    {
     "name": "stderr",
     "output_type": "stream",
     "text": [
      "C:\\Users\\X411U\\anaconda3\\envs\\enricenv\\lib\\site-packages\\pandas\\core\\frame.py:3607: SettingWithCopyWarning: \n",
      "A value is trying to be set on a copy of a slice from a DataFrame.\n",
      "Try using .loc[row_indexer,col_indexer] = value instead\n",
      "\n",
      "See the caveats in the documentation: https://pandas.pydata.org/pandas-docs/stable/user_guide/indexing.html#returning-a-view-versus-a-copy\n",
      "  self._set_item(key, value)\n"
     ]
    }
   ],
   "source": [
    "# Delet \"[\" brakets \"]\" and \":\" \n",
    "\n",
    "df[\"Date\"] = df[\"Date\"].str.split(\"[\").str.get(1)\n",
    "\n",
    "df[\"Hour\"] = df[\"Hour\"].str.split(\"]\").str.get(0)\n",
    "\n",
    "df[\"Name\"] = df[\"Name\"].str.split(\":\").str.get(0)"
   ]
  },
  {
   "cell_type": "markdown",
   "id": "fa08730c",
   "metadata": {},
   "source": [
    "## Delet the Nan values"
   ]
  },
  {
   "cell_type": "code",
   "execution_count": 7,
   "id": "de929394",
   "metadata": {},
   "outputs": [],
   "source": [
    "# Save the df without any nan values\n",
    "\n",
    "df = df[~df[\"Date\"].isna()]"
   ]
  },
  {
   "cell_type": "markdown",
   "id": "eefdfe56",
   "metadata": {},
   "source": [
    "# Delet the missatges that rows thatr contains the imatge or audio text"
   ]
  },
  {
   "cell_type": "code",
   "execution_count": 8,
   "id": "122ff7ce",
   "metadata": {},
   "outputs": [],
   "source": [
    "df = df[df[\"Content\"].str.contains(\"omitted\") == False]"
   ]
  },
  {
   "cell_type": "markdown",
   "id": "bfbc2f98",
   "metadata": {},
   "source": [
    "# Merge"
   ]
  },
  {
   "cell_type": "code",
   "execution_count": 9,
   "id": "5b76bbd2",
   "metadata": {},
   "outputs": [],
   "source": [
    "# Crate a new column to merge the conversations:\n",
    "df[\"Change\"] = \"\" \n",
    "df[\"Count\"] = \"\"\n",
    "\n",
    "# Max num of rows to do the while loop:\n",
    "max_fun = df[\"Name\"].count()\n",
    "max_fun = max_fun - 2"
   ]
  },
  {
   "cell_type": "code",
   "execution_count": 10,
   "id": "f0148ab5",
   "metadata": {},
   "outputs": [],
   "source": [
    "# Create a loop that detects when it change writer, and count all the changes\n",
    "\n",
    "# Get and Error but sill work\n",
    "i = 0\n",
    "coun = 0\n",
    "while i <= max_fun:\n",
    "    if (df[\"Name\"].iloc[i+1] == df[\"Name\"].iloc[i]):\n",
    "        i = i + 1\n",
    "        df[\"Change\"].iloc[i]= 1\n",
    "        \n",
    "        \n",
    "        df[\"Count\"].iloc[i ] = coun\n",
    "       \n",
    "    else: \n",
    "        i = i + 1\n",
    "        df[\"Change\"].iloc[i] = 0\n",
    "        \n",
    "        coun = coun + 1\n",
    "        df[\"Count\"].iloc[i] = coun"
   ]
  },
  {
   "cell_type": "markdown",
   "id": "dcdb0d0f",
   "metadata": {},
   "source": [
    "# Find value more repetitive value on a list"
   ]
  },
  {
   "cell_type": "code",
   "execution_count": 13,
   "id": "0b2b6b4d",
   "metadata": {},
   "outputs": [],
   "source": [
    "def most_frequent(List):\n",
    "    return max(set(List), key = List.count)"
   ]
  },
  {
   "cell_type": "markdown",
   "id": "13b43384",
   "metadata": {},
   "source": [
    "# Group the conversations:"
   ]
  },
  {
   "cell_type": "code",
   "execution_count": 14,
   "id": "d2dcbc49",
   "metadata": {},
   "outputs": [],
   "source": [
    "# Group the mensatgess of the same writer together until it change\n",
    "df_gr = df.groupby(df[\"Count\"]).first()"
   ]
  },
  {
   "cell_type": "code",
   "execution_count": 15,
   "id": "efe90d08",
   "metadata": {},
   "outputs": [],
   "source": [
    "df_gr = df_gr[:-1]"
   ]
  },
  {
   "cell_type": "markdown",
   "id": "ce2b6aa3",
   "metadata": {},
   "source": [
    "# Chat Bot:"
   ]
  },
  {
   "cell_type": "code",
   "execution_count": null,
   "id": "8a7c033e",
   "metadata": {},
   "outputs": [],
   "source": [
    "while True:\n",
    "    \n",
    "    # read our mesatge and get all the words\n",
    "    msg = input(\"Me:\")\n",
    "    list_msg =  msg.split(\" \")\n",
    "    \n",
    "    # Save the possible answers\n",
    "    Posiibles_respostes = []\n",
    "    \n",
    "    # Read all the mesatges to detect the once are similars are our msg\n",
    "    max_fun = df_gr[\"Name\"].count()\n",
    "    max_fun = max_fun - 1\n",
    "    i = 0 \n",
    "    max_count = 0\n",
    "    while i < max_fun:\n",
    "        \n",
    "        try:\n",
    "            #Get the content\n",
    "            content = df_gr[\"Content\"].iloc[i]\n",
    "\n",
    "            # Counter of similar words of our msg and the content\n",
    "            count_simitud= 0\n",
    "            \n",
    "            # Loop for all the words in our msg\n",
    "            for paraula in list_msg:\n",
    "                \n",
    "                # If the word in the msg is in the content add 1 in to the counter\n",
    "                if paraula in content:\n",
    "                    count_simitud = count_simitud +1\n",
    "\n",
    "            # If the number of similar word is the maximum delet all the oder saved answares\n",
    "            if count_simitud > max_count:\n",
    "                Posiibles_respostes = []\n",
    "\n",
    "            # If the number of similar word is the maximum or eaqual save the maximum, the position of the maximum, and all the possible answares:\n",
    "            if count_simitud >= max_count:\n",
    "                \n",
    "                max_count = count_simitud\n",
    "                num_max = i\n",
    "\n",
    "                resposta_provisional = num_max + 1\n",
    "                \n",
    "                # List with the possible answars:\n",
    "                resposta = df_gr[\"Content\"].iloc[resposta_provisional]\n",
    "                Posiibles_respostes.append(resposta)\n",
    "                \n",
    "                #print(count_simitud)\n",
    "                #print(\"Text amb similituts:\", lol)\n",
    "                #print(\"Respostes possibles\", df_gr[\"Content\"].iloc[resposta_provisional])\n",
    "        \n",
    "        except:\n",
    "            pass\n",
    "\n",
    "        # Add 2 because we want to read the content of the same person\n",
    "        i = i + 2\n",
    "    \n",
    "    # Get the most frequant answare:\n",
    "    resposta_def = most_frequent(Posiibles_respostes)\n",
    "    \n",
    "    #print(df_gr[\"Content\"].iloc[resposta])\n",
    "    \n",
    "    # Print the answare of the Bot\n",
    "    print(\"Bot:\" , resposta_def)\n",
    "    print(\"\")"
   ]
  },
  {
   "cell_type": "markdown",
   "id": "91a93324",
   "metadata": {},
   "source": []
  }
 ],
 "metadata": {
  "kernelspec": {
   "display_name": "Python 3",
   "language": "python",
   "name": "python3"
  },
  "language_info": {
   "codemirror_mode": {
    "name": "ipython",
    "version": 3
   },
   "file_extension": ".py",
   "mimetype": "text/x-python",
   "name": "python",
   "nbconvert_exporter": "python",
   "pygments_lexer": "ipython3",
   "version": "3.9.6"
  },
  "toc": {
   "base_numbering": 1,
   "nav_menu": {},
   "number_sections": true,
   "sideBar": true,
   "skip_h1_title": false,
   "title_cell": "Table of Contents",
   "title_sidebar": "Contents",
   "toc_cell": false,
   "toc_position": {
    "height": "calc(100% - 180px)",
    "left": "10px",
    "top": "150px",
    "width": "318.094px"
   },
   "toc_section_display": true,
   "toc_window_display": true
  },
  "varInspector": {
   "cols": {
    "lenName": 16,
    "lenType": 16,
    "lenVar": 40
   },
   "kernels_config": {
    "python": {
     "delete_cmd_postfix": "",
     "delete_cmd_prefix": "del ",
     "library": "var_list.py",
     "varRefreshCmd": "print(var_dic_list())"
    },
    "r": {
     "delete_cmd_postfix": ") ",
     "delete_cmd_prefix": "rm(",
     "library": "var_list.r",
     "varRefreshCmd": "cat(var_dic_list()) "
    }
   },
   "types_to_exclude": [
    "module",
    "function",
    "builtin_function_or_method",
    "instance",
    "_Feature"
   ],
   "window_display": false
  }
 },
 "nbformat": 4,
 "nbformat_minor": 5
}
